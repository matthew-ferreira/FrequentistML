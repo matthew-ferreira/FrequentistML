{
  "nbformat": 4,
  "nbformat_minor": 0,
  "metadata": {
    "colab": {
      "name": "Ferreira_Assignment 1",
      "provenance": [],
      "authorship_tag": "ABX9TyPet0/ZAFS1pbF4infFc0o6",
      "include_colab_link": true
    },
    "kernelspec": {
      "name": "python3",
      "display_name": "Python 3"
    }
  },
  "cells": [
    {
      "cell_type": "markdown",
      "metadata": {
        "id": "view-in-github",
        "colab_type": "text"
      },
      "source": [
        "<a href=\"https://colab.research.google.com/github/matthew-ferreira/FrequentistML/blob/main/Ferreira_Assignment_1.ipynb\" target=\"_parent\"><img src=\"https://colab.research.google.com/assets/colab-badge.svg\" alt=\"Open In Colab\"/></a>"
      ]
    },
    {
      "cell_type": "markdown",
      "metadata": {
        "id": "IxKYizGcU3c3"
      },
      "source": [
        "\n",
        "**Assignment 1: Linear Regression**\n",
        "\n",
        "Part 0: Import and divide data\n",
        "\n",
        "\n",
        "\n"
      ]
    },
    {
      "cell_type": "code",
      "metadata": {
        "id": "4X71BV_qPv_A",
        "colab": {
          "base_uri": "https://localhost:8080/",
          "height": 51
        },
        "outputId": "8fb4d74a-cdeb-4858-fbe1-958db46481c9"
      },
      "source": [
        "from sklearn.datasets import load_boston\n",
        "from sklearn.linear_model import Lasso, lasso_path\n",
        "from numpy import linalg, transpose, identity, zeros, log10, mean\n",
        "from sklearn.metrics import mean_squared_error\n",
        "import matplotlib.pyplot as plt\n",
        "\n",
        "X, y = load_boston(return_X_y=True)\n",
        "boston = load_boston()\n",
        "print(X.shape)\n",
        "\n",
        "for i in range(0,12):\n",
        "  temp = max(X[:,i])\n",
        "  X[:,i] = X[:,i] / temp\n",
        "\n",
        "X_test      =   X[506-51:]\n",
        "X_validate  =   X[506-102:506-51]\n",
        "X_train     =   X[:404]\n",
        "\n",
        "y_test      =   y[506-51:]\n",
        "y_validate  =   y[506-102:506-51]\n",
        "y_train     =   y[:404]\n",
        "\n",
        "m = mean(y)\n",
        "ma = zeros(506) + m\n",
        "msqe_baseline = mean_squared_error(y, ma)\n",
        "print('Baseline mean-squared error:', msqe_baseline)"
      ],
      "execution_count": null,
      "outputs": [
        {
          "output_type": "stream",
          "text": [
            "(506, 13)\n",
            "Baseline mean-squared error: 84.41955615616556\n"
          ],
          "name": "stdout"
        }
      ]
    },
    {
      "cell_type": "markdown",
      "metadata": {
        "id": "guf8qIXhVCv1"
      },
      "source": [
        "Part 1: Linear Regression without Regularization"
      ]
    },
    {
      "cell_type": "code",
      "metadata": {
        "id": "Q4ZxjdOtVGn1",
        "colab": {
          "base_uri": "https://localhost:8080/",
          "height": 34
        },
        "outputId": "2108feda-9da1-4d0b-ae62-7bf97dbed806"
      },
      "source": [
        "X_T = transpose(X_train)\n",
        "B = linalg.inv(X_T@X_train) @ X_T @ y_train\n",
        "\n",
        "X_Test = transpose(X_test)\n",
        "y_hat_1 = B @ X_Test\n",
        "\n",
        "msqe = mean_squared_error(y_test,y_hat_1)\n",
        "print(\"Mean squared error is:\" , msqe)"
      ],
      "execution_count": null,
      "outputs": [
        {
          "output_type": "stream",
          "text": [
            "Mean squared error is: 16.383872770161506\n"
          ],
          "name": "stdout"
        }
      ]
    },
    {
      "cell_type": "markdown",
      "metadata": {
        "id": "58V0BLIcZCm1"
      },
      "source": [
        "Part 2: Ridge Regression"
      ]
    },
    {
      "cell_type": "code",
      "metadata": {
        "id": "9PNXD3fcZGiV",
        "colab": {
          "base_uri": "https://localhost:8080/",
          "height": 34
        },
        "outputId": "b6f5ee8d-68fe-409f-c3ac-db0efc8b77fa"
      },
      "source": [
        "B_ridge = zeros((11,13))\n",
        "lam = zeros(11)\n",
        "\n",
        "for i in range(0,10):\n",
        "  B_ridge[i] = linalg.inv(X_T @ X_train + i/10 * identity(13)) @ X_T @ y_train\n",
        "  lam[i] = i/10\n",
        "\n",
        "X_Validate = transpose(X_validate)\n",
        "y_hat_val_ridge = B_ridge @ X_Validate\n",
        "\n",
        "msqe_ridge_val = zeros(10)\n",
        "\n",
        "for i in range(0,10):\n",
        "  msqe_ridge_val[i] = mean_squared_error(y_validate,y_hat_val_ridge[i])\n",
        "\n",
        "min_index = msqe_ridge_val.argmin()\n",
        "y_hat_ridge = B_ridge[min_index] @ X_Test\n",
        "msqe_ridge = mean_squared_error(y_test,y_hat_ridge)\n",
        "\n",
        "print(msqe_ridge)"
      ],
      "execution_count": null,
      "outputs": [
        {
          "output_type": "stream",
          "text": [
            "14.989311625319855\n"
          ],
          "name": "stdout"
        }
      ]
    },
    {
      "cell_type": "markdown",
      "metadata": {
        "id": "ZWcMV-knkjwj"
      },
      "source": [
        "Part 3: Lasso Regression"
      ]
    },
    {
      "cell_type": "code",
      "metadata": {
        "id": "WsLYuGLhkl14",
        "colab": {
          "base_uri": "https://localhost:8080/",
          "height": 299
        },
        "outputId": "e933b94b-850d-4145-b65f-84ab0fb19dd1"
      },
      "source": [
        "r2 = zeros(100)\n",
        "\n",
        "for i in range(0,100):\n",
        "  clf = Lasso(alpha=i+1/100)\n",
        "  clf.fit(X_train, y_train)\n",
        "  r2[i] = clf.score(X_validate, y_validate)\n",
        "\n",
        "max_index = r2.argmax()\n",
        "\n",
        "clf = Lasso(alpha = (max_index+1)/100)\n",
        "clf.fit(X_train,y_train)\n",
        "y_hat_lasso = clf.predict(X_test)\n",
        "msqe_lasso = mean_squared_error(y_test,y_hat_lasso)\n",
        "\n",
        "print(msqe_lasso)\n",
        "\n",
        "\n",
        "alphas_lasso, coeff, _ = lasso_path(X_train, y_train)\n",
        "neg_log_alphas = -log10(alphas_lasso)\n",
        "plt.figure(1)\n",
        "for i in range(0,13):\n",
        "  plt.plot(neg_log_alphas, coeff[i,:])\n",
        "plt.legend(boston.feature_names)\n",
        "\n",
        "# Note RM - average number of rooms per dwelling, \n",
        "# B - a measure of the number of black residents, \n",
        "# and LSTAT - a poverty measure"
      ],
      "execution_count": null,
      "outputs": [
        {
          "output_type": "stream",
          "text": [
            "13.431045349747249\n"
          ],
          "name": "stdout"
        },
        {
          "output_type": "execute_result",
          "data": {
            "text/plain": [
              "<matplotlib.legend.Legend at 0x7f22f4f9e320>"
            ]
          },
          "metadata": {
            "tags": []
          },
          "execution_count": 4
        },
        {
          "output_type": "display_data",
          "data": {
            "image/png": "[encoded data removed]",
            "text/plain": [
              "<Figure size 432x288 with 1 Axes>"
            ]
          },
          "metadata": {
            "tags": [],
            "needs_background": "light"
          }
        }
      ]
    }
  ]
}