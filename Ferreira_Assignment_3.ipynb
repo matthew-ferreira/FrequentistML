{
  "nbformat": 4,
  "nbformat_minor": 0,
  "metadata": {
    "colab": {
      "name": "Ferreira_Assignment 3",
      "provenance": [],
      "authorship_tag": "ABX9TyPKOGbhWhzbiKrGA1W5Mj5f",
      "include_colab_link": true
    },
    "kernelspec": {
      "name": "python3",
      "display_name": "Python 3"
    }
  },
  "cells": [
    {
      "cell_type": "markdown",
      "metadata": {
        "id": "view-in-github",
        "colab_type": "text"
      },
      "source": [
        "<a href=\"https://colab.research.google.com/github/matthew-ferreira/FrequentistML/blob/main/Ferreira_Assignment_3.ipynb\" target=\"_parent\"><img src=\"https://colab.research.google.com/assets/colab-badge.svg\" alt=\"Open In Colab\"/></a>"
      ]
    },
    {
      "cell_type": "code",
      "metadata": {
        "id": "h1PG87-Nmtcj"
      },
      "source": [
        "import numpy as np\n",
        "from sklearn.neighbors import KNeighborsClassifier\n",
        "from sklearn.model_selection import RepeatedKFold\n"
      ],
      "execution_count": null,
      "outputs": []
    },
    {
      "cell_type": "markdown",
      "metadata": {
        "id": "ED13qg4ZoUNw"
      },
      "source": [
        "Screen the predictors before fold selection (AKA the wrong way)"
      ]
    },
    {
      "cell_type": "code",
      "metadata": {
        "id": "oeMxaBS-oL9J",
        "colab": {
          "base_uri": "https://localhost:8080/",
          "height": 34
        },
        "outputId": "08a16284-5e63-45fb-f4e9-1b61934d35f9"
      },
      "source": [
        "predictors = np.random.random(size = (50, 5000))\n",
        "labels = np.random.randint(2, size = 50)\n",
        "\n",
        "pred_corr = [np.corrcoef(labels, x)[0,1] for x in predictors.T]\n",
        "pred_corr_sorted = np.argsort(pred_corr)\n",
        "top100 = pred_corr_sorted[-100:]\n",
        "feat = np.array(predictors.T)[top100].T\n",
        "feat.shape\n",
        "\n",
        "knc = KNeighborsClassifier(n_neighbors=2)\n",
        "kf = RepeatedKFold()\n",
        "error = []\n",
        "\n",
        "for train, test in kf.split(feat):\n",
        "    X_train, X_test = feat[train], feat[test]\n",
        "    y_train, y_test = labels[train], labels[test]\n",
        "    knc.fit(X_train, y_train)\n",
        "    error.append(1-knc.score(X_test, y_test))\n",
        "\n",
        "print(\"Average error:\", np.mean(error))\n"
      ],
      "execution_count": null,
      "outputs": [
        {
          "output_type": "stream",
          "text": [
            "Average error: 0.03399999999999999\n"
          ],
          "name": "stdout"
        }
      ]
    },
    {
      "cell_type": "markdown",
      "metadata": {
        "id": "fS0fiDrquJux"
      },
      "source": [
        "Screen the predictors AFTER fold selection (aka the right way)\n"
      ]
    },
    {
      "cell_type": "code",
      "metadata": {
        "id": "Wz6mFwmXuPso",
        "colab": {
          "base_uri": "https://localhost:8080/",
          "height": 34
        },
        "outputId": "318e3ba0-3324-4d6b-bb62-4d25ba61dfb9"
      },
      "source": [
        "predictors = np.random.random(size = (50, 5000))\n",
        "labels = np.random.randint(2, size = 50)\n",
        "\n",
        "knc = KNeighborsClassifier(n_neighbors=2)\n",
        "kf = RepeatedKFold()\n",
        "error = []\n",
        "\n",
        "for train, test in kf.split(predictors):\n",
        "    X_train, X_test = predictors[train], predictors[test]\n",
        "    y_train, y_test = labels[train], labels[test]\n",
        "\n",
        "    pred_corr = [np.corrcoef(y_train, x)[0,1] for x in X_train.T]\n",
        "    pred_corr_sorted = np.argsort(pred_corr)\n",
        "    top100 = pred_corr_sorted[-100:]\n",
        "    feat_train = np.array(X_train.T)[top100].T\n",
        "    feat_test = np.array(X_test.T)[top100].T\n",
        "\n",
        "    knc.fit(feat_train, y_train)\n",
        "    error.append(1-knc.score(feat_test, y_test))\n",
        "\n",
        "print(\"Average error:\", np.mean(error))"
      ],
      "execution_count": null,
      "outputs": [
        {
          "output_type": "stream",
          "text": [
            "Average error: 0.45799999999999996\n"
          ],
          "name": "stdout"
        }
      ]
    }
  ]
}