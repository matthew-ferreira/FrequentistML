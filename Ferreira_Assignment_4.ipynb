{
  "nbformat": 4,
  "nbformat_minor": 0,
  "metadata": {
    "colab": {
      "name": "Ferreira_Assignment 4",
      "provenance": [],
      "authorship_tag": "ABX9TyOawlgRLoRRc0ctQrc4dRXt",
      "include_colab_link": true
    },
    "kernelspec": {
      "name": "python3",
      "display_name": "Python 3"
    }
  },
  "cells": [
    {
      "cell_type": "markdown",
      "metadata": {
        "id": "view-in-github",
        "colab_type": "text"
      },
      "source": [
        "<a href=\"https://colab.research.google.com/github/matthew-ferreira/FrequentistML/blob/main/Ferreira_Assignment_4.ipynb\" target=\"_parent\"><img src=\"https://colab.research.google.com/assets/colab-badge.svg\" alt=\"Open In Colab\"/></a>"
      ]
    },
    {
      "cell_type": "code",
      "metadata": {
        "id": "JLzm4EbCvgfW",
        "colab": {
          "base_uri": "https://localhost:8080/",
          "height": 550
        },
        "outputId": "7fd542b4-ee30-426a-a7bc-d43cf481bae9"
      },
      "source": [
        "import xgboost as xgb\n",
        "from sklearn.datasets import load_boston\n",
        "from sklearn.metrics import mean_squared_error\n",
        "\n",
        "X, y = load_boston(return_X_y=True)\n",
        "boston = load_boston()\n",
        "X_test      =   X[506-51:]\n",
        "X_validate  =   X[506-102:506-51]\n",
        "X_train     =   X[:404]\n",
        "\n",
        "y_test      =   y[506-51:]\n",
        "y_validate  =   y[506-102:506-51]\n",
        "y_train     =   y[:404]\n",
        "\n",
        "dtrain = xgb.DMatrix(X_train, label=y_train)\n",
        "dval = xgb.DMatrix(X_validate, y_validate)\n",
        "evallist = [(dval, 'eval')]\n",
        "\n",
        "bst = xgb.train([], dtrain, 10, evallist, early_stopping_rounds=1)\n",
        "\n",
        "dtest = xgb.DMatrix(X_test)\n",
        "y_hat_test = bst.predict(dtest)\n",
        "\n",
        "print(mean_squared_error(y_test, y_hat_test))\n",
        "xgb.plot_importance(bst)\n",
        "\n",
        "boston.feature_names\n"
      ],
      "execution_count": null,
      "outputs": [
        {
          "output_type": "stream",
          "text": [
            "[0]\teval-rmse:10.2539\n",
            "Will train until eval-rmse hasn't improved in 1 rounds.\n",
            "[1]\teval-rmse:7.80454\n",
            "[2]\teval-rmse:6.15991\n",
            "[3]\teval-rmse:5.36032\n",
            "[4]\teval-rmse:4.84535\n",
            "[5]\teval-rmse:4.74033\n",
            "[6]\teval-rmse:4.73294\n",
            "[7]\teval-rmse:4.75722\n",
            "Stopping. Best iteration:\n",
            "[6]\teval-rmse:4.73294\n",
            "\n",
            "12.285457903756408\n"
          ],
          "name": "stdout"
        },
        {
          "output_type": "execute_result",
          "data": {
            "text/plain": [
              "array(['CRIM', 'ZN', 'INDUS', 'CHAS', 'NOX', 'RM', 'AGE', 'DIS', 'RAD',\n",
              "       'TAX', 'PTRATIO', 'B', 'LSTAT'], dtype='<U7')"
            ]
          },
          "metadata": {
            "tags": []
          },
          "execution_count": 21
        },
        {
          "output_type": "display_data",
          "data": {
            "image/png": "[encoded data removed]",
            "text/plain": [
              "<Figure size 432x288 with 1 Axes>"
            ]
          },
          "metadata": {
            "tags": [],
            "needs_background": "light"
          }
        }
      ]
    }
  ]
}