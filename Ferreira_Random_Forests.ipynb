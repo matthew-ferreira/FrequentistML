{
  "nbformat": 4,
  "nbformat_minor": 0,
  "metadata": {
    "colab": {
      "name": "Ferreira_Random_Forests",
      "provenance": [],
      "authorship_tag": "ABX9TyMkTYwJhosQYHoV7kHidksO",
      "include_colab_link": true
    },
    "kernelspec": {
      "name": "python3",
      "display_name": "Python 3"
    }
  },
  "cells": [
    {
      "cell_type": "markdown",
      "metadata": {
        "id": "view-in-github",
        "colab_type": "text"
      },
      "source": [
        "<a href=\"https://colab.research.google.com/github/matthew-ferreira/FrequentistML/blob/main/Ferreira_Random_Forests.ipynb\" target=\"_parent\"><img src=\"https://colab.research.google.com/assets/colab-badge.svg\" alt=\"Open In Colab\"/></a>"
      ]
    },
    {
      "cell_type": "code",
      "metadata": {
        "id": "18MvImkN6NSs",
        "colab": {
          "base_uri": "https://localhost:8080/",
          "height": 333
        },
        "outputId": "3696c564-8bb7-4f08-e2ea-994f9918107c"
      },
      "source": [
        "from sklearn.ensemble import RandomForestRegressor\n",
        "from sklearn.datasets import load_boston\n",
        "from sklearn.metrics import mean_squared_error\n",
        "import numpy as np\n",
        "from matplotlib import pyplot as plt\n",
        "\n",
        "X, y = load_boston(return_X_y=True)\n",
        "boston = load_boston()\n",
        "X_test      =   X[506-51:]\n",
        "X_validate  =   X[506-102:506-51]\n",
        "X_train     =   X[:404]\n",
        "\n",
        "y_test      =   y[506-51:]\n",
        "y_validate  =   y[506-102:506-51]\n",
        "y_train     =   y[:404]\n",
        "\n",
        "regr = RandomForestRegressor(max_depth=5, random_state=0)\n",
        "scores = np.zeros(10)\n",
        "for i in range(10):\n",
        "  regr.set_params(n_estimators = (i+1)*20)\n",
        "  regr.fit(X_train,y_train)\n",
        "  y_hat_validate = regr.predict(X_validate)\n",
        "  scores[i] = mean_squared_error(y_validate, y_hat_validate)\n",
        "\n",
        "print(scores)\n",
        "\n",
        "s = np.argmin(scores)\n",
        "print(s)\n",
        "\n",
        "regr.set_params(n_estimators = (s+1)*20)\n",
        "regr.fit(X_train,y_train)\n",
        "y_hat_test = regr.predict(X_test)\n",
        "mean_squared_error(y_test,y_hat_test)\n",
        "\n",
        "plt.plot(regr.feature_importances_,'.')"
      ],
      "execution_count": null,
      "outputs": [
        {
          "output_type": "stream",
          "text": [
            "[23.64706697 26.62315438 27.49279122 24.71131353 23.35819541 23.65583967\n",
            " 25.08021667 25.10566989 24.64726788 24.16153506]\n",
            "4\n"
          ],
          "name": "stdout"
        },
        {
          "output_type": "execute_result",
          "data": {
            "text/plain": [
              "[<matplotlib.lines.Line2D at 0x7f1830bac320>]"
            ]
          },
          "metadata": {
            "tags": []
          },
          "execution_count": 34
        },
        {
          "output_type": "display_data",
          "data": {
            "image/png": "[encoded data removed]",
            "text/plain": [
              "<Figure size 432x288 with 1 Axes>"
            ]
          },
          "metadata": {
            "tags": [],
            "needs_background": "light"
          }
        }
      ]
    }
  ]
}